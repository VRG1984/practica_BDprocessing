{
 "cells": [
  {
   "cell_type": "code",
   "execution_count": 1,
   "id": "8ccdfc75",
   "metadata": {},
   "outputs": [],
   "source": [
    "#Preparamos el entorno y sesión\n",
    "\n",
    "import findspark\n",
    "findspark.init()\n",
    "\n",
    "import pandas as pd\n",
    "import pyspark\n",
    "\n",
    "from pyspark.sql import SparkSession\n",
    "from pyspark.sql.functions import *\n",
    "\n",
    "spark = SparkSession.builder.appName(\"practica_bdp\").getOrCreate()"
   ]
  },
  {
   "cell_type": "code",
   "execution_count": 2,
   "id": "17d1e319",
   "metadata": {},
   "outputs": [
    {
     "name": "stdout",
     "output_type": "stream",
     "text": [
      "+------------+------------+\n",
      "|Country name|Ladder score|\n",
      "+------------+------------+\n",
      "|     Finland|       7.842|\n",
      "+------------+------------+\n",
      "only showing top 1 row\n",
      "\n"
     ]
    }
   ],
   "source": [
    "# 1. ¿Cuál es el país más “feliz” del 2021 según la data? (considerar que la columna “Ladder score” mayor número más feliz es el país)\n",
    "\n",
    "df = spark.read.option(\"header\", \"true\").csv(\"C:/Users/Victor/Desktop/big-data-processing/big-data-processing Víctor/Práctica/Datasets/world-happiness-report-2021.csv\")\n",
    "\n",
    "df.columns\n",
    "\n",
    "df.select('Country name','Ladder score').sort(desc('Ladder score')).show(1)"
   ]
  },
  {
   "cell_type": "code",
   "execution_count": 3,
   "id": "f5b3a53e",
   "metadata": {},
   "outputs": [
    {
     "name": "stdout",
     "output_type": "stream",
     "text": [
      "+--------------------+--------------------+------------+\n",
      "|  Regional indicator|        Country name|Ladder score|\n",
      "+--------------------+--------------------+------------+\n",
      "|      Western Europe|             Finland|       7.842|\n",
      "|North America and...|         New Zealand|       7.277|\n",
      "|Middle East and N...|              Israel|       7.157|\n",
      "|Latin America and...|          Costa Rica|       7.069|\n",
      "|Central and Easte...|      Czech Republic|       6.965|\n",
      "|           East Asia|Taiwan Province o...|       6.584|\n",
      "|      Southeast Asia|           Singapore|       6.377|\n",
      "|Commonwealth of I...|          Uzbekistan|       6.179|\n",
      "|  Sub-Saharan Africa|           Mauritius|       6.049|\n",
      "|          South Asia|               Nepal|       5.269|\n",
      "+--------------------+--------------------+------------+\n",
      "\n"
     ]
    }
   ],
   "source": [
    "# 2. ¿Cuál es el país más “feliz” del 2021 por continente según la data?\n",
    "\n",
    "df_1 = df.select('Regional indicator','Country name','Ladder score').orderBy(['Regional indicator', 'Ladder score'], ascending = [1,0])\n",
    "\n",
    "df_2 = df.groupBy('Regional indicator').agg(max('Ladder score').alias('Max Ladder Score'))\n",
    "\n",
    "df_3 = df_1.join(df_2, df_1['Ladder score'] == df_2['Max Ladder score'])\n",
    "\n",
    "df_3.select(df_1['Regional indicator'],'Country name','Ladder score').show()"
   ]
  },
  {
   "cell_type": "code",
   "execution_count": 4,
   "id": "2f0883b4",
   "metadata": {},
   "outputs": [
    {
     "name": "stdout",
     "output_type": "stream",
     "text": [
      "+------------+----+-----------+-------------------+\n",
      "|Country_Name|year|Life_Ladder|Ranking_Life_Ladder|\n",
      "+------------+----+-----------+-------------------+\n",
      "|     Denmark|2005|      8.019|                  1|\n",
      "|     Finland|2006|      7.672|                  1|\n",
      "|     Denmark|2007|      7.834|                  1|\n",
      "|     Denmark|2008|      7.971|                  1|\n",
      "|     Denmark|2009|      7.683|                  1|\n",
      "|     Denmark|2010|      7.771|                  1|\n",
      "|     Denmark|2011|      7.788|                  1|\n",
      "| Switzerland|2012|      7.776|                  1|\n",
      "|      Canada|2013|      7.594|                  1|\n",
      "|     Denmark|2014|      7.508|                  1|\n",
      "|      Norway|2015|      7.603|                  1|\n",
      "|     Finland|2016|      7.660|                  1|\n",
      "|     Finland|2017|      7.788|                  1|\n",
      "|     Finland|2018|      7.858|                  1|\n",
      "|     Finland|2019|      7.780|                  1|\n",
      "|     Finland|2020|      7.889|                  1|\n",
      "+------------+----+-----------+-------------------+\n",
      "\n",
      "+------------+-----+\n",
      "|Country_Name|count|\n",
      "+------------+-----+\n",
      "|     Denmark|    7|\n",
      "|     Finland|    6|\n",
      "|      Norway|    1|\n",
      "| Switzerland|    1|\n",
      "|      Canada|    1|\n",
      "+------------+-----+\n",
      "\n"
     ]
    }
   ],
   "source": [
    "# 3. ¿Cuál es el país que más veces ocupó el primer lugar en todos los años?\n",
    "df_h = spark.read.option(\"header\", \"true\").csv(\"C:/Users/Victor/Desktop/big-data-processing/big-data-processing Víctor/Práctica/Datasets/world-happiness-report.csv\")\n",
    "df_h = df_h.withColumnRenamed('Country name', 'Country_Name').withColumnRenamed('Life Ladder', 'Life_Ladder')\n",
    "df_h.createOrReplaceTempView(\"temp_table\")\n",
    "\n",
    "df_h_rankeated = spark.sql(\"SELECT Country_Name, year, Life_Ladder, RANK() OVER (PARTITION BY year ORDER BY Life_Ladder desc) AS Ranking_Life_Ladder FROM temp_table ORDER BY Ranking_Life_Ladder, year\")#.show(16)\n",
    "\n",
    "df_rank1 = df_h_rankeated.filter(col('Ranking_Life_Ladder') == 1)\n",
    "df_rank1.show()\n",
    "\n",
    "freq = df_rank1.groupby('Country_Name').count()\n",
    "freq.sort(desc('count')).show()"
   ]
  },
  {
   "cell_type": "code",
   "execution_count": 5,
   "id": "7ca3b7df",
   "metadata": {},
   "outputs": [
    {
     "name": "stdout",
     "output_type": "stream",
     "text": [
      "+------------+----+------------------+-------------------+-----------+\n",
      "|Country_Name|year|Log_GDP_per_capita|Ranking_Life_Ladder|Ranking_GDP|\n",
      "+------------+----+------------------+-------------------+-----------+\n",
      "|     Ireland|2020|            11.323|                 13|          1|\n",
      "+------------+----+------------------+-------------------+-----------+\n",
      "\n"
     ]
    }
   ],
   "source": [
    "# 4. ¿Qué puesto de Felicidad tiene el país con mayor GDP del 2020?\n",
    "df_h = spark.read.option(\"header\", \"true\").csv(\"C:/Users/Victor/Desktop/big-data-processing/big-data-processing Víctor/Práctica/Datasets/world-happiness-report.csv\")\n",
    "df_h = df_h.withColumnRenamed('Country name', 'Country_Name').withColumnRenamed('Life Ladder', 'Life_Ladder').withColumnRenamed('Log GDP per capita', 'Log_GDP_per_capita')\n",
    "df_h = df_h.withColumn('Log_GDP_per_capita',df_h.Log_GDP_per_capita.cast('double'))\n",
    "df_h.createOrReplaceTempView(\"temp_table\")\n",
    "\n",
    "df_h_rankeated = spark.sql(\"SELECT Country_Name, year, Log_GDP_per_capita, RANK() OVER (PARTITION BY year ORDER BY Life_Ladder desc) AS Ranking_Life_Ladder, RANK() OVER (PARTITION BY year ORDER BY Log_GDP_per_capita desc) AS Ranking_GDP FROM temp_table ORDER BY Ranking_Life_Ladder, year\")\n",
    "\n",
    "df_rank1 = df_h_rankeated.filter(col('Ranking_GDP') == 1)\n",
    "df_rank1 = df_rank1.filter(col('year') == 2020)\n",
    "df_rank1.show()"
   ]
  },
  {
   "cell_type": "code",
   "execution_count": 6,
   "id": "b55c9589",
   "metadata": {},
   "outputs": [
    {
     "name": "stdout",
     "output_type": "stream",
     "text": [
      "+-----------------+\n",
      "|    Media_GDP2021|\n",
      "+-----------------+\n",
      "|9.432208053691273|\n",
      "+-----------------+\n",
      "\n",
      "+-----------------+\n",
      "|    Media_GDP2020|\n",
      "+-----------------+\n",
      "|9.751329545454546|\n",
      "+-----------------+\n",
      "\n",
      "El GDP entre 2020 y 2021 ha disminuido en un 3.272594678251106 %\n"
     ]
    }
   ],
   "source": [
    "# 5. ¿En que porcentaje a variado a nivel mundial el GDP promedio del 2020 respecto al 2021? ¿Aumentó o disminuyó?\n",
    "\n",
    "df = spark.read.option(\"header\", \"true\").csv(\"C:/Users/Victor/Desktop/big-data-processing/big-data-processing Víctor/Práctica/Datasets/world-happiness-report-2021.csv\")\n",
    "df = df.withColumnRenamed('Logged GDP per capita', 'Logged_GDP_per_capita')\n",
    "df = df.withColumn('Logged_GDP_per_capita',df.Logged_GDP_per_capita.cast('double'))\n",
    "\n",
    "df = df.agg(avg('Logged_GDP_per_capita').alias('Media_GDP2021'))\n",
    "df.collect()[0]\n",
    "df.show()\n",
    "\n",
    "df_h = spark.read.option(\"header\", \"true\").csv(\"C:/Users/Victor/Desktop/big-data-processing/big-data-processing Víctor/Práctica/Datasets/world-happiness-report.csv\")\n",
    "df_h = df_h.withColumnRenamed('Country name', 'Country_Name').withColumnRenamed('Life Ladder', 'Life_Ladder').withColumnRenamed('Log GDP per capita', 'Log_GDP_per_capita')\n",
    "df_h = df_h.withColumn('Log_GDP_per_capita',df_h.Log_GDP_per_capita.cast('double'))\n",
    "\n",
    "df_h = df_h.groupBy('year').agg(avg('Log_GDP_per_capita').alias('Media_GDP2020'))\n",
    "df_h = df_h.filter(col('year') == 2020)\n",
    "df_h = df_h.select('Media_GDP2020')\n",
    "\n",
    "df_h.show()\n",
    "\n",
    "GDP2020VSGDP2021 = (1 - (df.collect()[0][0]/ df_h.collect()[0][0]))*100\n",
    "print(\"El GDP entre 2020 y 2021 ha disminuido en un\", GDP2020VSGDP2021,\"%\")"
   ]
  },
  {
   "cell_type": "code",
   "execution_count": 7,
   "id": "f826d1a4",
   "metadata": {},
   "outputs": [
    {
     "name": "stdout",
     "output_type": "stream",
     "text": [
      "2021\n",
      "+------------+-----------------------+-----------------------+\n",
      "|Country_Name|Healthy_life_expectancy|Ranking_Life_Expectancy|\n",
      "+------------+-----------------------+-----------------------+\n",
      "|   Singapore|                 76.953|                      1|\n",
      "+------------+-----------------------+-----------------------+\n",
      "\n",
      "2019\n",
      "+------------+----+--------------------------------+-----------------------+\n",
      "|Country_Name|year|Healthy_life_expectancy_at_birth|Ranking_Life_Expectancy|\n",
      "+------------+----+--------------------------------+-----------------------+\n",
      "|   Singapore|2019|                            77.1|                      1|\n",
      "+------------+----+--------------------------------+-----------------------+\n",
      "\n"
     ]
    }
   ],
   "source": [
    "# 6. ¿Cuál es el país con mayor expectativa de vide (“Healthy life expectancy at birth”)? Y ¿Cuánto tenia en ese indicador en el 2019?\n",
    "print(\"2021\")\n",
    "\n",
    "df = spark.read.option(\"header\", \"true\").csv(\"C:/Users/Victor/Desktop/big-data-processing/big-data-processing Víctor/Práctica/Datasets/world-happiness-report-2021.csv\")\n",
    "df = df.withColumnRenamed('Country name', 'Country_Name').withColumnRenamed('Life Ladder', 'Life_Ladder').withColumnRenamed('Healthy life expectancy', 'Healthy_life_expectancy')\n",
    "df = df.withColumn('Healthy_life_expectancy',df.Healthy_life_expectancy.cast('double'))\n",
    "df.createOrReplaceTempView(\"temp_table\")\n",
    "\n",
    "df_rankeated = spark.sql(\"SELECT Country_Name, Healthy_life_expectancy, RANK() OVER (ORDER BY Healthy_life_expectancy desc) AS Ranking_Life_Expectancy FROM temp_table ORDER BY Ranking_Life_Expectancy\")\n",
    "\n",
    "df_rank1 = df_rankeated.filter(col('Ranking_Life_Expectancy') == 1)\n",
    "df_rank1.show()\n",
    "\n",
    "print(\"2019\")\n",
    "df_h = spark.read.option(\"header\", \"true\").csv(\"C:/Users/Victor/Desktop/big-data-processing/big-data-processing Víctor/Práctica/Datasets/world-happiness-report.csv\")\n",
    "df_h = df_h.withColumnRenamed('Country name', 'Country_Name').withColumnRenamed('Life Ladder', 'Life_Ladder').withColumnRenamed('Healthy life expectancy at birth', 'Healthy_life_expectancy_at_birth')\n",
    "df_h = df_h.withColumn('Healthy_life_expectancy_at_birth',df_h.Healthy_life_expectancy_at_birth.cast('double'))\n",
    "df_h.createOrReplaceTempView(\"temp_table\")\n",
    "\n",
    "df_h_rankeated = spark.sql(\"SELECT Country_Name, year, Healthy_life_expectancy_at_birth, RANK() OVER (PARTITION BY year ORDER BY Healthy_life_expectancy_at_birth desc) AS Ranking_Life_Expectancy FROM temp_table ORDER BY Ranking_Life_Expectancy, year\")\n",
    "\n",
    "df_rank1 = df_h_rankeated.filter(col('Ranking_Life_Expectancy') == 1)\n",
    "df_rank1 = df_rank1.filter(col('year') == 2019)\n",
    "df_rank1.show()"
   ]
  }
 ],
 "metadata": {
  "kernelspec": {
   "display_name": "Python 3 (ipykernel)",
   "language": "python",
   "name": "python3"
  },
  "language_info": {
   "codemirror_mode": {
    "name": "ipython",
    "version": 3
   },
   "file_extension": ".py",
   "mimetype": "text/x-python",
   "name": "python",
   "nbconvert_exporter": "python",
   "pygments_lexer": "ipython3",
   "version": "3.9.13"
  }
 },
 "nbformat": 4,
 "nbformat_minor": 5
}
